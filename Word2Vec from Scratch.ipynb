{
 "cells": [
  {
   "cell_type": "code",
   "execution_count": 1,
   "id": "e6f2ee36",
   "metadata": {},
   "outputs": [],
   "source": [
    "# The theory is inspired from:\n",
    "# https://jaketae.github.io/study/word2vec/#forward-propagation"
   ]
  },
  {
   "cell_type": "markdown",
   "id": "6d1319e1",
   "metadata": {},
   "source": [
    "### Word2Vec as defined by Wikipedia:\n",
    "\n",
    "<b>Word2vec is a technique for natural language processing published in 2013. The word2vec algorithm uses a neural network model to learn word associations from a large corpus of text. Once trained, such a model can detect synonymous words or suggest additional words for a partial sentence. As the name implies, word2vec represents each distinct word with a particular list of numbers called a vector. The vectors are chosen carefully such that a simple mathematical function (the cosine similarity between the vectors) indicates the level of semantic similarity between the words represented by those vectors.</b>"
   ]
  },
  {
   "cell_type": "code",
   "execution_count": 2,
   "id": "7030bbec",
   "metadata": {},
   "outputs": [],
   "source": [
    "# importing libraries\n",
    "import re\n",
    "import numpy as np\n",
    "import matplotlib.pyplot as plt\n",
    "%matplotlib inline\n",
    "plt.style.use('seaborn')"
   ]
  },
  {
   "cell_type": "code",
   "execution_count": 3,
   "id": "0344a11d",
   "metadata": {},
   "outputs": [],
   "source": [
    "# sample text as an input\n",
    "text = '''Machine learning is the study of computer algorithms that \\\n",
    "improve automatically through experience. It is seen as a \\\n",
    "subset of artificial intelligence. Machine learning algorithms \\\n",
    "build a mathematical model based on sample data, known as \\\n",
    "training data, in order to make predictions or decisions without \\\n",
    "being explicitly programmed to do so. Machine learning algorithms \\\n",
    "are used in a wide variety of applications, such as email filtering \\\n",
    "and computer vision, where it is difficult or infeasible to develop \\\n",
    "conventional algorithms to perform the needed tasks.'''"
   ]
  },
  {
   "cell_type": "markdown",
   "id": "0948cf8e",
   "metadata": {},
   "source": [
    "### Tokenization:\n",
    "\n",
    "<b>A simple method to convert sentences or paragraphs into their granular entity format i.e. words<br>\n",
    "<i>Example string : \"The bottle is on the table\"</i><br>\n",
    "\n",
    "The string gets converted to python list after tokenization.<br>\n",
    "\n",
    "<i>Tokenized string : [\"The\", \"bottle\", \"is\", \"on\", \"the\", \"table\"]</i></b>"
   ]
  },
  {
   "cell_type": "code",
   "execution_count": 4,
   "id": "bf3d1116",
   "metadata": {},
   "outputs": [],
   "source": [
    "# removing unwanted special characters\n",
    "text = re.sub(\",\", \"\", text)\n",
    "\n",
    "# Simple tokenization function returns \n",
    "def tokenize(text):\n",
    "    return re.findall(r'[A-Za-z0-9]+', text.lower())"
   ]
  },
  {
   "cell_type": "code",
   "execution_count": 5,
   "id": "99dd253a",
   "metadata": {},
   "outputs": [
    {
     "name": "stdout",
     "output_type": "stream",
     "text": [
      "Tokens for the input string : \n",
      " {'mathematical', 'through', 'study', 'a', 'difficult', 'tasks', 'in', 'the', 'as', 'develop', 'seen', 'conventional', 'of', 'applications', 'so', 'data', 'make', 'without', 'computer', 'decisions', 'it', 'being', 'infeasible', 'wide', 'programmed', 'variety', 'is', 'improve', 'build', 'predictions', 'filtering', 'sample', 'known', 'artificial', 'automatically', 'model', 'training', 'or', 'order', 'are', 'based', 'email', 'that', 'subset', 'on', 'machine', 'such', 'do', 'where', 'needed', 'to', 'learning', 'algorithms', 'experience', 'intelligence', 'explicitly', 'used', 'and', 'vision', 'perform'}\n"
     ]
    }
   ],
   "source": [
    "tokens = tokenize(text)\n",
    "print(\"Tokens for the input string : \\n\", set(tokens))"
   ]
  },
  {
   "cell_type": "markdown",
   "id": "2394854c",
   "metadata": {},
   "source": [
    "<b>As computers cannot process string data, we need a way to convert our string token into numerical format. One such operation is to provide indices to our tokens. therefore we create a map between tokens and indices, and vice versa.</b>"
   ]
  },
  {
   "cell_type": "code",
   "execution_count": 6,
   "id": "b7fedf55",
   "metadata": {},
   "outputs": [
    {
     "name": "stdout",
     "output_type": "stream",
     "text": [
      "{'mathematical': 0, 'through': 1, 'study': 2, 'a': 3, 'difficult': 4, 'tasks': 5, 'in': 6, 'the': 7, 'as': 8, 'develop': 9, 'seen': 10, 'conventional': 11, 'of': 12, 'applications': 13, 'so': 14, 'data': 15, 'make': 16, 'without': 17, 'computer': 18, 'decisions': 19, 'it': 20, 'being': 21, 'infeasible': 22, 'wide': 23, 'programmed': 24, 'variety': 25, 'is': 26, 'improve': 27, 'build': 28, 'predictions': 29, 'filtering': 30, 'sample': 31, 'known': 32, 'artificial': 33, 'automatically': 34, 'model': 35, 'training': 36, 'or': 37, 'order': 38, 'are': 39, 'based': 40, 'email': 41, 'that': 42, 'subset': 43, 'on': 44, 'machine': 45, 'such': 46, 'do': 47, 'where': 48, 'needed': 49, 'to': 50, 'learning': 51, 'algorithms': 52, 'experience': 53, 'intelligence': 54, 'explicitly': 55, 'used': 56, 'and': 57, 'vision': 58, 'perform': 59}\n"
     ]
    }
   ],
   "source": [
    "# the function returns proper mapping for tokens\n",
    "def mapping(tokens):\n",
    "    id_2_word = {i:j for (i,j) in enumerate(set(tokens))}\n",
    "    word_2_id = {j:i for (i,j) in id_2_word.items()}\n",
    "    \n",
    "    return word_2_id, id_2_word\n",
    "\n",
    "word_2_id, id_2_word = mapping(tokens)\n",
    "\n",
    "# the below dictionary contains the key as words \n",
    "# and value as its respecive indices.\n",
    "# the reverse mapping of the same can be used a lookup table,\n",
    "# to find out the word given its indices\n",
    "print(word_2_id)"
   ]
  },
  {
   "cell_type": "markdown",
   "id": "757ff732",
   "metadata": {},
   "source": [
    "### Generating Training Data\n",
    "\n",
    "<b>Word2Vec is a form of supervised learning technique, but we are only given with a paragraph to start with so what could be our features and targets.<br> \n",
    "\n",
    "we loop through each word/token in the sentence/corpus. In each loop we look at words at the left and right of the input word(also called as center-word) within a given window called as context words. The left and right words will be paired with the center word to create pairs of words and that will be used as our training data.</b>\n",
    "\n",
    "<b>Example sentence : <i>\"A crazy fox <u>jumped</u> over the cow.\"</i><br>\n",
    "For the above sentence, lets consider our window to be 2 and our center-word to be <i>\"jumped\"</i>.</b>\n",
    "\n",
    "<b>Therefore, \n",
    "our left context words are: <i>[\"crazy\", \"fox\"]</i><br>\n",
    "our right context words are: <i>[\"over\", \"the\"]</i><br>\n",
    "\n",
    "Our training pairs will come out as:<i><br>\n",
    "[\"jumped\", \"crazy\"], <br>\n",
    "[\"jumped\", \"fox\"], <br>\n",
    "[\"jumped\", \"over\"], <br>\n",
    "[\"jumped\", \"the\"] <br></i>\n",
    "\n",
    "Each word whether it is input word or context word will be represented using One-hot vectors, and our final goal is to create equivalent word embeddings which can show the semantic relationship among the words from corpus.</b>\n",
    "\n",
    "<b>Below is the code blocks that generates training data using the algorithm described above. we basically iterate over the input paragraph and generate pairs</b"
   ]
  },
  {
   "cell_type": "code",
   "execution_count": 7,
   "id": "a863bba1",
   "metadata": {},
   "outputs": [],
   "source": [
    "np.random.seed(2021)\n",
    "        \n",
    "def one_hot_encode(id, vocab_size):\n",
    "    \"\"\"\n",
    "    return one hot encoded vector for the words\n",
    "    \"\"\"\n",
    "    res = [0] * vocab_size\n",
    "    res[id] = 1\n",
    "    return res"
   ]
  },
  {
   "cell_type": "code",
   "execution_count": 8,
   "id": "d0b1d28c",
   "metadata": {},
   "outputs": [],
   "source": [
    "def get_pair(word, word_idx, window, sentence):\n",
    "    #print(word_idx)\n",
    "    # length of the input sentence\n",
    "    n_len = len(sentence.strip().split(\" \"))\n",
    "    # left word indexes\n",
    "    left_words = range(max(0, word_idx - window), word_idx)\n",
    "    # right word indexes\n",
    "    right_words = range(word_idx, min(n_len, word_idx + window+1))\n",
    "    \n",
    "    # consolidating left and right context word indexes\n",
    "    context_words_idx = list(left_words) + list(right_words)\n",
    "    try:\n",
    "        context_words_idx.remove(word_idx)\n",
    "    except:\n",
    "        print(\"excepted  word : \", word_idx)\n",
    "        \n",
    "    # collecting all the context words\n",
    "    context_words = [sentence.strip().split(\" \")[i] for i in context_words_idx]\n",
    "    yield from context_words\n",
    "\n",
    "def get_training_data(text, window = 2):\n",
    "    # empty lists for context and center word\n",
    "    X, y = [], []\n",
    "    for sentence in text.lower().split(\".\"):\n",
    "        # stripping of unwanted spaces\n",
    "        sentence = sentence.strip()\n",
    "        for idx, word in enumerate(sentence.split(\" \")):\n",
    "            center_word = word\n",
    "            context_words = get_pair(center_word, idx, window, sentence)\n",
    "        \n",
    "            for c_word in context_words:\n",
    "                X.append(one_hot_encode(word_2_id[c_word], len(word_2_id)))\n",
    "                y.append(one_hot_encode(word_2_id[center_word],len(word_2_id)))\n",
    "    \n",
    "    return np.asarray(X), np.asarray(y)"
   ]
  },
  {
   "cell_type": "code",
   "execution_count": 9,
   "id": "21e8b160",
   "metadata": {},
   "outputs": [],
   "source": [
    "X, y = get_training_data(text, 2)"
   ]
  },
  {
   "cell_type": "code",
   "execution_count": 10,
   "id": "e769c880",
   "metadata": {},
   "outputs": [
    {
     "name": "stdout",
     "output_type": "stream",
     "text": [
      "X : (312, 60), y : (312, 60)\n"
     ]
    }
   ],
   "source": [
    "# checking the dimensionality of data \n",
    "# to get a sense of what matrices we are working with.\n",
    "print(\"X : {}, y : {}\".format(X.shape, y.shape))"
   ]
  },
  {
   "cell_type": "markdown",
   "id": "f87fc841",
   "metadata": {},
   "source": [
    "<b>Both <i>X</i> and <i>y</i> are matrices with 312 rows and 60 columns. Here, 312 is the number of training examples we have. The number of rows would have been larger if we would have used a larger window. 60 is the size of our corpus, since we have one hot encoded both input and output as 60-dimensional sparse vectors, this is expected.</b>\n",
    "\n",
    "<b>Now, we are ready to build and train our embedding network</b>"
   ]
  },
  {
   "cell_type": "markdown",
   "id": "87e0150f",
   "metadata": {},
   "source": [
    "### The Embedding Model\n",
    "\n",
    "<b>The expected outcome from the word2vec is to generate an embedding for input words which when used with input words will result in the prediction of context words. These embeddings are nothing but rows of the intermediate weight matrices which we get after training our model with intermediate hidden layers and a softmax output layer</b>\n",
    "\n",
    "<b>For example:</b> \n",
    "<b>lets take an example of 3 samples from the corpus denoted as X<sub>3</sub>. X<sub>3</sub> has a shape of (3,60), we take a weight matrix W<sub>1</sub> with the shape (60,2). The dot product of X<sup>T</sup><sub>3</sub> with W<sub>1</sub> results in a matrix with shape of (3,2). The resultant matrix of shape (3,2) is exactly what we want to achieve with embedding: representing words as dense vectors, an increment from simple one hot encoding.</b>\n",
    "\n",
    "<b>The <a href = \"https://jaketae.github.io/study/word2vec/#forward-propagation\">post</a> by Jaesung Tae describes the whole idea of embedding in a much more illustrated and detailed manner.</b>\n",
    "\n",
    "<b>Moving on, we have our data ready for training, but to make sure that our model trains in a good way we would be comparing our results from softmax output that to true one-hot encoded targets. The error function we use with softmax is cross entropy, defined as:</b>\n",
    "<br><br>\n",
    "<center><b><i>$H(p,q) = - \\sum p(x).log(q(x))$</i></b></center>\n",
    "\n",
    "<b>The vectors we are dealing with are one-hot encoded therefore if I sum the sum the values of a vector it will always results in 1.</b>\n",
    "\n",
    "<b>Therefore, we can rewrite the loss function equation as:</b>\n",
    "<br><br>\n",
    "<center><b><i>$H(p,q) = - p.log(q)$</i></b></center>\n",
    "\n",
    "<b>Where <i>p</i> is the true labels and <i>q</i> is the predicted one.</b>\n",
    "\n",
    "<b>Now, The whole process can be represented in a set of equation which will be used to calculated values in Forward Propagration as well.</b>\n",
    "<br><br>\n",
    "<center><i>$X = input(matrix)$</i></center>\n",
    "<center><i>$A_{1} = X.W_{1}$</i></center>\n",
    "<center><i>$A_{2} = A_{1}.W_{2}$</i></center>\n",
    "<center><i>$Z = Softmax(A_{2})$</i></center>\n",
    "\n",
    "<b>Where $X$ is input, $W_{1}$ and $W_{2}$ are weight matrices and $Z$ is the matrix contains the prediction probability vectors.</b>\n",
    "\n",
    "### Code Implementation\n",
    "\n",
    "<b>In the below code we started off with our input size as number of tokens in our training set, In the very first layer the inputs will be converted into the shape of the embedding. On the next layers we are again converting the embedded matrix back into number of tokens, that is because we want our results/embedded matrix to be in similar shape as that of true labels.</b>"
   ]
  },
  {
   "cell_type": "code",
   "execution_count": 11,
   "id": "541f6f1e",
   "metadata": {},
   "outputs": [],
   "source": [
    "def init_network(vocab_size, n_embedding):\n",
    "    \"\"\"\n",
    "    inputs:\n",
    "    vocab_size : number of tokens in our training set\n",
    "    n_embedding : the size of embedding we want\n",
    "    \"\"\"\n",
    "    model = {\n",
    "        \"W1\" : np.random.randn(vocab_size, n_embedding),\n",
    "        \"W2\" : np.random.randn(n_embedding, vocab_size)\n",
    "    }\n",
    "    return model"
   ]
  },
  {
   "cell_type": "markdown",
   "id": "eb6420ee",
   "metadata": {},
   "source": [
    "<b>Let's specify our model to create 20-dimensional embeddings. In other words each token now will be converted from 60-dimensions to 20-dimensions. The actual word2vec model used much higher dimensions such as 300, but for our purposes this is not necessary.</b>"
   ]
  },
  {
   "cell_type": "code",
   "execution_count": 12,
   "id": "f2ac8a88",
   "metadata": {},
   "outputs": [
    {
     "data": {
      "text/plain": [
       "{'W1': array([[ 1.48860905,  0.67601087, -0.41845137, ..., -0.22508127,\n",
       "         -1.33620597,  0.30372151],\n",
       "        [-0.72015884,  2.5449146 ,  1.31729112, ..., -0.16150753,\n",
       "         -2.79353057,  0.36164801],\n",
       "        [ 0.24010758,  0.47781228,  0.20885194, ..., -0.67335092,\n",
       "          1.22222171, -0.92641342],\n",
       "        ...,\n",
       "        [ 0.5095208 , -0.35721995, -0.9493845 , ..., -0.15412878,\n",
       "          0.66883833, -1.34445507],\n",
       "        [-0.28392442, -1.69575813, -0.37903759, ...,  0.0637477 ,\n",
       "         -1.54333106,  0.76194403],\n",
       "        [-0.05690875, -0.49331203,  0.50302151, ...,  0.25543456,\n",
       "         -1.60934907,  0.15491553]]),\n",
       " 'W2': array([[-2.14142059, -0.42644362,  3.28832288, ..., -1.24307108,\n",
       "         -1.18852196,  0.02933298],\n",
       "        [-0.44975585, -0.65242634,  1.48745667, ..., -1.15040527,\n",
       "          0.5292788 ,  1.26745163],\n",
       "        [ 0.33728638,  0.48471877,  0.38711267, ...,  0.48105195,\n",
       "          0.26199591,  0.45999949],\n",
       "        ...,\n",
       "        [-0.21879945, -0.7016483 ,  1.62768672, ...,  0.03223237,\n",
       "         -0.38291534, -0.13306572],\n",
       "        [ 0.08213361,  0.62819253, -0.84862612, ..., -1.06915126,\n",
       "          0.92771856, -1.85218944],\n",
       "        [-0.84187279, -1.15505875,  0.31037359, ...,  0.9316116 ,\n",
       "          0.42592694, -1.07324521]])}"
      ]
     },
     "execution_count": 12,
     "metadata": {},
     "output_type": "execute_result"
    }
   ],
   "source": [
    "model = init_network(len(word_2_id), 20)\n",
    "\n",
    "# Current state representation of model\n",
    "model"
   ]
  },
  {
   "cell_type": "markdown",
   "id": "1f46288c",
   "metadata": {},
   "source": [
    "### Forward Propagation\n",
    "\n",
    "<b>Coding forward propagation is relatively easy as we just need to rewrite the equations from <i>\"The Embedding Model\"</i> section into code.</b>"
   ]
  },
  {
   "cell_type": "code",
   "execution_count": 13,
   "id": "7cbfed7c",
   "metadata": {},
   "outputs": [],
   "source": [
    "def forward(model, X, return_cache = True):\n",
    "    cache = {}\n",
    "    cache['A1'] = np.dot(X, model['W1'])\n",
    "    cache['A2'] = np.dot(cache['A1'], model['W2'])\n",
    "    cache['Z'] = softmax(cache['A2'])\n",
    "    \n",
    "    if not return_cache:\n",
    "        return cache['Z']\n",
    "    return cache"
   ]
  },
  {
   "cell_type": "markdown",
   "id": "72794588",
   "metadata": {},
   "source": [
    "<b>For backpropagation, we will need all the intermediate variables, so we hold them in a dictionary called <i>cache</i>. However, if we simply want the final prediction vector only, not the intermediate variables, we set <i>return_cache</i> to <i>False</i>.</b>\n",
    "\n",
    "<b>For softmax function, we are expecting a matrix instead of a vector as an output from $A_{2}$, so we will need to make some changes accordingly.</b>"
   ]
  },
  {
   "cell_type": "code",
   "execution_count": 14,
   "id": "ed02acde",
   "metadata": {},
   "outputs": [],
   "source": [
    "def softmax(X):\n",
    "    z_exp = np.exp(X)\n",
    "    return z_exp / np.sum(z_exp, axis = 1, keepdims = True)"
   ]
  },
  {
   "cell_type": "markdown",
   "id": "2fc35b43",
   "metadata": {},
   "source": [
    "### Checking the dimensionality\n",
    "\n",
    "<b>Before moving on we want to test our model and parameters</b>"
   ]
  },
  {
   "cell_type": "code",
   "execution_count": 15,
   "id": "439ffa00",
   "metadata": {},
   "outputs": [
    {
     "name": "stdout",
     "output_type": "stream",
     "text": [
      "(312, 20)\n",
      "(312, 60)\n",
      "(312, 60)\n"
     ]
    }
   ],
   "source": [
    "example_a1 = np.dot(X, model['W1'])\n",
    "print(example_a1.shape)\n",
    "example_a2 = np.dot(example_a1, model['W2'])\n",
    "print(example_a2.shape)\n",
    "example_z = softmax(example_a2)\n",
    "print(example_z.shape)"
   ]
  },
  {
   "cell_type": "markdown",
   "id": "51dc3aa4",
   "metadata": {},
   "source": [
    "### Backpropagation\n",
    "\n",
    "<b>In backpropagation we try to find out our derivatives of loss function with respect to our parameters, currently in our case $W_{1}$ and $W_{2}$</b>\n",
    "\n",
    "<b>Fortunately, we have already calculated the equations which we require for backpropagation in this <a href = \"https://github.com/Pi-Akash/Pytorch-Learnings/blob/main/Neural%20Network%20from%20Scratch.ipynb\">notebook</a> where we implement neural network from scratch, Calculation of backpropagation is an important step and there are many good resources available in the internet, therefore I am not going to describe how we got to these equations, if you want to learn more about backpropagation, please go through the below links:</b>\n",
    "\n",
    "- <a href = \"https://deepnotes.io/softmax-crossentropy\">How to calculate derivative of Cross Entropy Loss when used with Softmax?</a>\n",
    "- <a href = \"http://colah.github.io/posts/2015-08-Backprop/\">Calculus on Computational Graphs: Backpropagation</a>\n",
    "- <a href = \"https://karpathy.medium.com/yes-you-should-understand-backprop-e2f06eab496b\">Yes you should understand backprop by Andrej Karpathy</a>\n",
    "\n",
    "<b>Ok, lets look at the equations:</b><br>\n",
    "$del_{3} = Z - y$<br>\n",
    "$del_{2} = del_{3} * Softmax(A_{2}) * (1 - Softmax(A_{2}))$<br>\n",
    "$del_{Loss}/del_{w2} = A_{1}^{T} . del_{2}$<br>\n",
    "$del_{Loss}/del_{w1} = X^{T} . (del_{2} . W_{2}^{T})$\n",
    "\n",
    "<b>In the below code block we perform a small sanity check to make sure our dimensions are proper as per the above equations</b>"
   ]
  },
  {
   "cell_type": "code",
   "execution_count": 16,
   "id": "6d54d83f",
   "metadata": {},
   "outputs": [
    {
     "name": "stdout",
     "output_type": "stream",
     "text": [
      "del3 :  (312, 60)\n",
      "del2 :  (312, 60)\n",
      "delW2 :  (20, 60)\n",
      "delW1 :  (60, 20)\n"
     ]
    }
   ],
   "source": [
    "cache = forward(model, X)\n",
    "del3 = cache['Z'] - y\n",
    "print(\"del3 : \", del3.shape)\n",
    "del2 = del3 * softmax(cache['A2']) * (1 - softmax(cache['A2']))\n",
    "print(\"del2 : \", del2.shape)\n",
    "delW2 = np.dot(cache['A1'].T, del2)\n",
    "print(\"delW2 : \", delW2.shape)\n",
    "delW1 = np.dot(X.T, np.dot(del2, model['W2'].T))\n",
    "print(\"delW1 : \", delW1.shape)"
   ]
  },
  {
   "cell_type": "markdown",
   "id": "629bb688",
   "metadata": {},
   "source": [
    "<b>Now that the dimensions are proper, Lets implement the backpropagation function</b>"
   ]
  },
  {
   "cell_type": "code",
   "execution_count": 17,
   "id": "f397e657",
   "metadata": {},
   "outputs": [],
   "source": [
    "def backward(model, X, y, learning_rate = 0.01):\n",
    "    cache = forward(model, X)\n",
    "    del3 = cache['Z'] - y\n",
    "    del2 = del3 * softmax(cache['A2']) * (1 - softmax(cache['A2']))\n",
    "    delW2 = np.dot(cache['A1'].T, del2)\n",
    "    delW1 = np.dot(X.T, np.dot(del2, model['W2'].T))\n",
    "    \n",
    "    assert delW2.shape == model['W2'].shape, \"delW2 is not the same shape as W2\"\n",
    "    assert delW1.shape == model['W1'].shape, \"delW1 is not the same shape as W1\"\n",
    "    model['W1'] = model['W1'] - learning_rate * delW1\n",
    "    model['W2'] = model['W2'] - learning_rate * delW2\n",
    "    \n",
    "    return cross_entropy(cache['Z'], y)"
   ]
  },
  {
   "cell_type": "markdown",
   "id": "ad4629e5",
   "metadata": {},
   "source": [
    "<b>As specified above, we will be using log-loss or Cross entropy loss to keep record of the error between our predictions and true labels, the cross entropy loss can be easily implemented as follows.</b>"
   ]
  },
  {
   "cell_type": "code",
   "execution_count": 18,
   "id": "6e223028",
   "metadata": {},
   "outputs": [],
   "source": [
    "def cross_entropy(z, y):\n",
    "    return -1 * np.sum(np.log(z) * y)"
   ]
  },
  {
   "cell_type": "markdown",
   "id": "be97f4d4",
   "metadata": {},
   "source": [
    "<b>We have created all the components required to train a neural network, Just for assurance we are going to list down all the functions we have created.</b>\n",
    "\n",
    "- <i>init_network(vocab_size, n_embedding) : Initialization of model parameters</i>\n",
    "- <i>forward(model, X, return_cache = True) : Forward propagation</i>\n",
    "- <i>softmax(X) : applies softmax on the input value</i>\n",
    "- <i>backward(model, X, y, learning_rate = 0.01) : Backward propagation</i>\n",
    "- <i>cross_entropy(z, y) : calculates log loss</i>\n",
    "\n",
    "<b>Using above functions we will test our model on the training set</b>"
   ]
  },
  {
   "cell_type": "code",
   "execution_count": 38,
   "id": "37db7979",
   "metadata": {},
   "outputs": [],
   "source": [
    "n_iter = 1000 # number of iterations to run\n",
    "learning_rate = 0.05 # learning rate of the model\n",
    "model = init_network(len(word_2_id), 20) # initialization of model\n",
    "\n",
    "# looping forward and backward pass for n iterations:\n",
    "history = [backward(model, X, y, learning_rate) for _ in range(n_iter)]"
   ]
  },
  {
   "cell_type": "code",
   "execution_count": 39,
   "id": "34e0d4c7",
   "metadata": {},
   "outputs": [
    {
     "data": {
      "image/png": "[encoded data removed]",
      "text/plain": [
       "<Figure size 576x396 with 1 Axes>"
      ]
     },
     "metadata": {},
     "output_type": "display_data"
    }
   ],
   "source": [
    "plt.plot(range(len(history)), history)\n",
    "plt.xlabel(\"Iterations\")\n",
    "plt.ylabel(\"Cross Entropy Loss\")\n",
    "plt.title(\"Loss v/s Iterations\")\n",
    "plt.show()"
   ]
  },
  {
   "cell_type": "markdown",
   "id": "a663ce4b",
   "metadata": {},
   "source": [
    "<b>Looking at the above plot, it seems we did well. The loss starting at a value of 3000+ comes down to less than 1000 after 1000 iterations. we can fiddle with learning rate and number of iterations to get much more fine tuned results to reduce the loss even further. With some degree of confidence we can say that the embedding layer has been trained well.</b>\n",
    "\n",
    "<b>Lets test our trained model on a word and see what context words we get for the input word.</b>"
   ]
  },
  {
   "cell_type": "code",
   "execution_count": 61,
   "id": "7bd3c4a0",
   "metadata": {},
   "outputs": [
    {
     "name": "stdout",
     "output_type": "stream",
     "text": [
      "Random word is :  algorithms\n",
      "learning\n",
      "machine\n",
      "computer\n",
      "of\n",
      "improve\n",
      "used\n",
      "build\n",
      "that\n",
      "develop\n",
      "conventional\n"
     ]
    }
   ],
   "source": [
    "np.random.seed(2021)\n",
    "random_word_idx = np.random.randint(len(word_2_id))\n",
    "print(\"Random word is : \", id_2_word[random_word_idx])\n",
    "\n",
    "random_word = one_hot_encode(random_word_idx, len(word_2_id))\n",
    "result = forward(model, [random_word], return_cache = False)\n",
    "result = np.squeeze(result)\n",
    "\n",
    "# printing top 10 words\n",
    "for word in (id_2_word[id] for id in np.argsort(result)[::-1][:10]):\n",
    "    print(word)"
   ]
  },
  {
   "cell_type": "markdown",
   "id": "dbe02a8c",
   "metadata": {},
   "source": [
    "<b>Input text for reference:</b>\n",
    "\n",
    "<i>Machine learning is the study <b>of computer</b> algorithms <b>that improve</b> automatically through experience. It is seen as a subset of artificial intelligence. Machine learning algorithms build a mathematical model based on sample data, known as training data, in order to make predictions or decisions without being explicitly programmed to do so. <b>Machine learning</b> algorithms <b>are used</b> in a wide variety of applications, such as email filtering and computer vision, where it is difficult or infeasible to develop conventional algorithms to perform the needed tasks.</i>\n",
    "\n",
    "<b>We can see that the bold words in the paragraphs are the context words for our input word and out of top 10 predicted words first 4-5 are same as that of highlighted ones. This concludes that our model words as expected.</b>\n",
    "\n",
    "<b>Now lets look at the embeddings that got created for the training dataset.</b>"
   ]
  },
  {
   "cell_type": "code",
   "execution_count": 65,
   "id": "d54777bf",
   "metadata": {},
   "outputs": [
    {
     "name": "stdout",
     "output_type": "stream",
     "text": [
      "Embedding shape :  (60, 20)\n",
      "\n",
      "[[ 0.03316042 -1.70377684 -0.69516723 ...  0.04795336  0.89781764\n",
      "  -0.45716584]\n",
      " [-0.60903402 -0.50675367 -0.44897499 ...  0.0967588   0.86857157\n",
      "   0.76617485]\n",
      " [-2.58565507 -1.23073185  2.17199634 ...  0.35676115  1.52885652\n",
      "  -0.9592579 ]\n",
      " ...\n",
      " [ 0.94002151 -1.20604718  0.14270202 ...  0.89383132  0.74153647\n",
      "  -0.14949186]\n",
      " [-0.35239205  0.35581766 -0.7969699  ... -0.0517016  -0.10718259\n",
      "   0.03535121]\n",
      " [-0.52581913  0.3420522   1.48293876 ...  0.2204532   1.18039095\n",
      "  -1.65384786]]\n"
     ]
    }
   ],
   "source": [
    "print(\"Embedding shape : \", model['W1'].shape)\n",
    "print()\n",
    "print(model['W1'])"
   ]
  },
  {
   "cell_type": "markdown",
   "id": "1ef38677",
   "metadata": {},
   "source": [
    "<b>Lets make embeddings a little more user friendly for display.</b>"
   ]
  },
  {
   "cell_type": "code",
   "execution_count": 70,
   "id": "6eb713e2",
   "metadata": {},
   "outputs": [],
   "source": [
    "def get_embedding(model, word):\n",
    "    try:\n",
    "        idx = word_2_id[word]\n",
    "    except:\n",
    "        print(\"Word not in corpus\")\n",
    "    one_hot = one_hot_encode(idx, len(word_2_id))\n",
    "    return forward(model, [one_hot])['A1']"
   ]
  },
  {
   "cell_type": "code",
   "execution_count": 73,
   "id": "e3b24b6a",
   "metadata": {},
   "outputs": [
    {
     "name": "stdout",
     "output_type": "stream",
     "text": [
      "Random word is :  algorithms\n",
      "Embedding shape :  (1, 20)\n"
     ]
    },
    {
     "data": {
      "text/plain": [
       "array([[-1.59280032,  0.46352374,  0.42955392, -0.79421328,  0.55034104,\n",
       "         1.0170684 , -0.07856808, -0.16202304,  0.40609382,  0.38084355,\n",
       "        -1.27358747, -1.06305941,  0.87758973, -1.21262052,  0.53966545,\n",
       "         0.05435573,  0.50984065,  0.30313373, -0.69539455,  0.25823635]])"
      ]
     },
     "execution_count": 73,
     "metadata": {},
     "output_type": "execute_result"
    }
   ],
   "source": [
    "np.random.seed(2021)\n",
    "random_word_idx = np.random.randint(len(word_2_id))\n",
    "print(\"Random word is : \", id_2_word[random_word_idx])\n",
    "print(\"Embedding shape : \", get_embedding(model, id_2_word[random_word_idx]).shape)\n",
    "get_embedding(model, id_2_word[random_word_idx])"
   ]
  },
  {
   "cell_type": "markdown",
   "id": "37ee476f",
   "metadata": {},
   "source": [
    "<b>Above we tested a random word from the corpus and got a 20 dimensional vector as expected.</b>\n",
    "\n",
    "<b>And of course, thisvector is not a collection of some randomly initialized numbers, but a result of training with context data generated through the sliding window algorithm described above.</b>"
   ]
  }
 ],
 "metadata": {
  "kernelspec": {
   "display_name": "Python 3",
   "language": "python",
   "name": "python3"
  },
  "language_info": {
   "codemirror_mode": {
    "name": "ipython",
    "version": 3
   },
   "file_extension": ".py",
   "mimetype": "text/x-python",
   "name": "python",
   "nbconvert_exporter": "python",
   "pygments_lexer": "ipython3",
   "version": "3.7.10"
  }
 },
 "nbformat": 4,
 "nbformat_minor": 5
}
