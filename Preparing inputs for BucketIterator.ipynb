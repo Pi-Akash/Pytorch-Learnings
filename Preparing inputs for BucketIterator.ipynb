{
 "cells": [
  {
   "cell_type": "code",
   "execution_count": 1,
   "id": "c8141d0e",
   "metadata": {},
   "outputs": [],
   "source": [
    "# References:\n",
    "# https://github.com/bentrevett/pytorch-seq2seq/blob/master/1%20-%20Sequence%20to%20Sequence%20Learning%20with%20Neural%20Networks.ipynb"
   ]
  },
  {
   "cell_type": "code",
   "execution_count": 2,
   "id": "6f6fb9d3",
   "metadata": {},
   "outputs": [],
   "source": [
    "import torch\n",
    "from torch import nn, optim\n",
    "from torchtext.legacy.data import Field, BucketIterator, TabularDataset\n",
    "from sklearn.model_selection import train_test_split\n",
    "import numpy as np\n",
    "import unicodedata\n",
    "import re\n",
    "import pandas as pd\n",
    "import os\n",
    "import random\n",
    "import spacy\n",
    "import shutil"
   ]
  },
  {
   "cell_type": "code",
   "execution_count": 3,
   "id": "ba8c0e4b",
   "metadata": {},
   "outputs": [],
   "source": [
    "# !python -m spacy download fr_core_news_sm\n",
    "# !python -m spacy download en_core_web_sm\n",
    "spacy_fr = spacy.load('fr_core_news_sm')\n",
    "spacy_eng = spacy.load('en_core_web_sm')"
   ]
  },
  {
   "cell_type": "code",
   "execution_count": 4,
   "id": "b6d37053",
   "metadata": {},
   "outputs": [],
   "source": [
    "path = \"D:/Datasets/Eng-French Translation\"\n",
    "os.chdir(path)"
   ]
  },
  {
   "cell_type": "code",
   "execution_count": 5,
   "id": "44659fe6",
   "metadata": {},
   "outputs": [],
   "source": [
    "df = pd.read_csv('eng_-french.csv')\n",
    "df.columns = ['english', 'french']"
   ]
  },
  {
   "cell_type": "code",
   "execution_count": 6,
   "id": "bcfdaff5",
   "metadata": {},
   "outputs": [],
   "source": [
    "def unicode2Ascii(s):\n",
    "    return ''.join(c for c in unicodedata.normalize('NFD', s) if unicodedata.category(c) != 'Mn')\n",
    "\n",
    "def normalizeString(s):\n",
    "    s = unicode2Ascii(s.lower().strip())\n",
    "    s = re.sub(r\"([.!?])\", r\"\\1\", s)\n",
    "    s = re.sub(r\"[^a-zA-Z.!?]+\", r\" \", s)\n",
    "    return s"
   ]
  },
  {
   "cell_type": "code",
   "execution_count": 7,
   "id": "9fc60e95",
   "metadata": {},
   "outputs": [],
   "source": [
    "df['english'] = df['english'].apply(lambda x: normalizeString(x))\n",
    "df['french'] = df['french'].apply(lambda x: normalizeString(x))"
   ]
  },
  {
   "cell_type": "code",
   "execution_count": 8,
   "id": "548d9abb",
   "metadata": {},
   "outputs": [],
   "source": [
    "MAX_LENGTH = 10\n",
    "\n",
    "def filter_sentence(rows):\n",
    "    if len(rows['english'].split(' ')) < MAX_LENGTH and len(rows['french'].split(' ')) < MAX_LENGTH:\n",
    "        return rows\n",
    "    else:\n",
    "        return np.nan\n",
    "\n",
    "df = df.apply(filter_sentence, axis = 'columns')"
   ]
  },
  {
   "cell_type": "code",
   "execution_count": 9,
   "id": "6a44d837",
   "metadata": {},
   "outputs": [],
   "source": [
    "df_sample = df.dropna().reset_index(drop = True)"
   ]
  },
  {
   "cell_type": "code",
   "execution_count": 10,
   "id": "34bb1f53",
   "metadata": {},
   "outputs": [],
   "source": [
    "np.random.seed(1234)\n",
    "random.seed(1234)\n",
    "torch.manual_seed(1234)\n",
    "n_samples = 1500\n",
    "df_sample = df_sample.sample(n_samples).reset_index(drop = True)"
   ]
  },
  {
   "cell_type": "code",
   "execution_count": 11,
   "id": "8ec465f3",
   "metadata": {},
   "outputs": [],
   "source": [
    "# tokenizers\n",
    "def french_tokenizer(text):\n",
    "    return [tok.text for tok in spacy_fr.tokenizer(text)]\n",
    "\n",
    "def english_tokenizer(text):\n",
    "    return [tok.text for tok in spacy_eng.tokenizer(text)]"
   ]
  },
  {
   "cell_type": "code",
   "execution_count": 12,
   "id": "d469ae05",
   "metadata": {},
   "outputs": [],
   "source": [
    "ENGLISH_TEXT = Field(sequential = True, \n",
    "                     tokenize = english_tokenizer, \n",
    "                     lower = True,\n",
    "                     init_token = \"<sos>\", \n",
    "                     eos_token = \"<eos>\")\n",
    "\n",
    "FRENCH_TEXT = Field(sequential = True, \n",
    "                    tokenize = french_tokenizer, \n",
    "                    lower= True,\n",
    "                    init_token = \"<sos>\",\n",
    "                    eos_token = \"<eos>\")"
   ]
  },
  {
   "cell_type": "code",
   "execution_count": 13,
   "id": "62bbf5d6",
   "metadata": {},
   "outputs": [
    {
     "name": "stdout",
     "output_type": "stream",
     "text": [
      "Train :  (1125, 2)\n",
      "Valid :  (375, 2)\n"
     ]
    }
   ],
   "source": [
    "# train - validation split\n",
    "train, valid = train_test_split(df_sample, test_size = 0.25, shuffle = True, random_state = 1234)\n",
    "print(\"Train : \", train.shape)\n",
    "print(\"Valid : \", valid.shape)"
   ]
  },
  {
   "cell_type": "code",
   "execution_count": 14,
   "id": "cc92bd69",
   "metadata": {},
   "outputs": [
    {
     "name": "stdout",
     "output_type": "stream",
     "text": [
      "Folder already exists\n",
      "train.csv written successfully\n",
      "train.csv moved successfully\n",
      "valid.csv written successfully\n",
      "valid.csv moved successfully\n"
     ]
    }
   ],
   "source": [
    "# writing train and valid files into folder\n",
    "if not os.path.exists(\"inputs\"):\n",
    "    os.mkdir(\"inputs\")\n",
    "    print(\"inputs folder created succesfully\")\n",
    "    if not os.path.isfile(\"/inputs/train.csv\"):\n",
    "        train.to_csv(\"train.csv\", index = False)\n",
    "        print(\"train.csv written successfully\")\n",
    "        shutil.move(\"train.csv\", \"inputs/train.csv\")\n",
    "        print(\"train.csv moved successfully\")\n",
    "        \n",
    "    if not os.path.isfile(\"/inputs/valid.csv\"):\n",
    "        valid.to_csv(\"valid.csv\", index = False)\n",
    "        print(\"valid.csv written successfully\")\n",
    "        shutil.move(\"valid.csv\", \"inputs/valid.csv\")\n",
    "        print(\"valid.csv moved successfully\")\n",
    "else:\n",
    "    print(\"Folder already exists\")\n",
    "    train.to_csv(\"train.csv\", index = False)\n",
    "    print(\"train.csv written successfully\")\n",
    "    shutil.move(\"train.csv\", \"inputs/train.csv\")\n",
    "    print(\"train.csv moved successfully\")\n",
    "    \n",
    "    valid.to_csv(\"valid.csv\", index = False)\n",
    "    print(\"valid.csv written successfully\")\n",
    "    shutil.move(\"valid.csv\", \"inputs/valid.csv\")\n",
    "    print(\"valid.csv moved successfully\")"
   ]
  },
  {
   "cell_type": "code",
   "execution_count": null,
   "id": "e6ab4840",
   "metadata": {},
   "outputs": [],
   "source": []
  }
 ],
 "metadata": {
  "kernelspec": {
   "display_name": "Python 3",
   "language": "python",
   "name": "python3"
  },
  "language_info": {
   "codemirror_mode": {
    "name": "ipython",
    "version": 3
   },
   "file_extension": ".py",
   "mimetype": "text/x-python",
   "name": "python",
   "nbconvert_exporter": "python",
   "pygments_lexer": "ipython3",
   "version": "3.7.10"
  }
 },
 "nbformat": 4,
 "nbformat_minor": 5
}
