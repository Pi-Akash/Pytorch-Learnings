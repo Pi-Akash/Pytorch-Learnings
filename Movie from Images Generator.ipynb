{
 "cells": [
  {
   "cell_type": "code",
   "execution_count": 1,
   "id": "731c5210",
   "metadata": {},
   "outputs": [],
   "source": [
    "import cv2\n",
    "import os"
   ]
  },
  {
   "cell_type": "code",
   "execution_count": 2,
   "id": "6fc907d6",
   "metadata": {},
   "outputs": [],
   "source": [
    "image_folder = \"./neural_training\"\n",
    "video_name = \"./neural_training/Decision_Plane.avi\""
   ]
  },
  {
   "cell_type": "code",
   "execution_count": 3,
   "id": "a371db64",
   "metadata": {},
   "outputs": [],
   "source": [
    "images = [\"Iteration_{}.png\".format(i) for i in range(1199, 2000, 20)]"
   ]
  },
  {
   "cell_type": "code",
   "execution_count": 4,
   "id": "62a2d159",
   "metadata": {},
   "outputs": [],
   "source": [
    "frame = cv2.imread(os.path.join(image_folder, images[0]))"
   ]
  },
  {
   "cell_type": "code",
   "execution_count": 5,
   "id": "4f342562",
   "metadata": {},
   "outputs": [],
   "source": [
    "height, width, layers = frame.shape"
   ]
  },
  {
   "cell_type": "code",
   "execution_count": 6,
   "id": "76190991",
   "metadata": {},
   "outputs": [],
   "source": [
    "video = cv2.VideoWriter(video_name, 0, 1, (width, height))"
   ]
  },
  {
   "cell_type": "code",
   "execution_count": 7,
   "id": "9b6a0346",
   "metadata": {},
   "outputs": [],
   "source": [
    "for image in images:\n",
    "    video.write(cv2.imread(os.path.join(image_folder, image)))"
   ]
  },
  {
   "cell_type": "code",
   "execution_count": 8,
   "id": "0f630be1",
   "metadata": {},
   "outputs": [],
   "source": [
    "cv2.destroyAllWindows()\n",
    "video.release()"
   ]
  }
 ],
 "metadata": {
  "kernelspec": {
   "display_name": "Python 3",
   "language": "python",
   "name": "python3"
  },
  "language_info": {
   "codemirror_mode": {
    "name": "ipython",
    "version": 3
   },
   "file_extension": ".py",
   "mimetype": "text/x-python",
   "name": "python",
   "nbconvert_exporter": "python",
   "pygments_lexer": "ipython3",
   "version": "3.7.10"
  }
 },
 "nbformat": 4,
 "nbformat_minor": 5
}
