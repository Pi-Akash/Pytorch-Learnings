{
 "cells": [
  {
   "cell_type": "code",
   "execution_count": 1,
   "id": "22f29399",
   "metadata": {},
   "outputs": [],
   "source": [
    "# References:\n",
    "# https://gmihaila.medium.com/better-batches-with-pytorchtext-bucketiterator-12804a545e2a"
   ]
  },
  {
   "cell_type": "code",
   "execution_count": 2,
   "id": "509a3da0",
   "metadata": {},
   "outputs": [],
   "source": [
    "import torch\n",
    "from torchtext.legacy.data import Field, BucketIterator, TabularDataset\n",
    "import spacy\n",
    "import os"
   ]
  },
  {
   "cell_type": "code",
   "execution_count": 3,
   "id": "b0291586",
   "metadata": {},
   "outputs": [],
   "source": [
    "path = \"D:/Datasets/Eng-French Translation\"\n",
    "os.chdir(path)"
   ]
  },
  {
   "cell_type": "code",
   "execution_count": 4,
   "id": "76d3ca3f",
   "metadata": {},
   "outputs": [],
   "source": [
    "# !python -m spacy download fr_core_news_sm\n",
    "# !python -m spacy download en_core_web_sm\n",
    "spacy_fr = spacy.load('fr_core_news_sm')\n",
    "spacy_eng = spacy.load('en_core_web_sm')"
   ]
  },
  {
   "cell_type": "code",
   "execution_count": 5,
   "id": "8901018f",
   "metadata": {},
   "outputs": [],
   "source": [
    "# tokenizers\n",
    "def french_tokenizer(text):\n",
    "    return [tok.text for tok in spacy_fr.tokenizer(text)]\n",
    "\n",
    "def english_tokenizer(text):\n",
    "    return [tok.text for tok in spacy_eng.tokenizer(text)]"
   ]
  },
  {
   "cell_type": "code",
   "execution_count": 6,
   "id": "c87d357f",
   "metadata": {},
   "outputs": [],
   "source": [
    "ENGLISH_TEXT = Field(sequential = True, \n",
    "                     tokenize = english_tokenizer, \n",
    "                     lower = True,\n",
    "                     init_token = \"<sos>\", \n",
    "                     eos_token = \"<eos>\")\n",
    "\n",
    "FRENCH_TEXT = Field(sequential = True, \n",
    "                    tokenize = french_tokenizer, \n",
    "                    lower= True,\n",
    "                    init_token = \"<sos>\",\n",
    "                    eos_token = \"<eos>\")"
   ]
  },
  {
   "cell_type": "code",
   "execution_count": 7,
   "id": "58dc5223",
   "metadata": {},
   "outputs": [],
   "source": [
    "# Datafields\n",
    "datafields = [(\"english\", ENGLISH_TEXT), (\"french\", FRENCH_TEXT)]\n",
    "\n",
    "train, valid = TabularDataset.splits(\n",
    "    path = \"inputs/\",\n",
    "    train = \"train.csv\", validation = \"valid.csv\",\n",
    "    format = \"csv\", skip_header = True,\n",
    "    fields = datafields\n",
    ")"
   ]
  },
  {
   "cell_type": "code",
   "execution_count": 8,
   "id": "7b30b6bf",
   "metadata": {},
   "outputs": [
    {
     "name": "stdout",
     "output_type": "stream",
     "text": [
      "No of training examples :  11250\n",
      "No of validation examples :  3750\n"
     ]
    }
   ],
   "source": [
    "print(\"No of training examples : \", len(train.examples))\n",
    "print(\"No of validation examples : \", len(valid.examples))"
   ]
  },
  {
   "cell_type": "code",
   "execution_count": 9,
   "id": "1747e53e",
   "metadata": {},
   "outputs": [
    {
     "name": "stdout",
     "output_type": "stream",
     "text": [
      "{'english': ['let', 'me', 'get', 'back', 'to', 'you', '.'], 'french': ['laissez', 'moi', 'revenir', 'vers', 'vous', '!']}\n"
     ]
    }
   ],
   "source": [
    "# Example\n",
    "print(vars(train.examples[0]))"
   ]
  },
  {
   "cell_type": "code",
   "execution_count": 10,
   "id": "5f57bb10",
   "metadata": {},
   "outputs": [],
   "source": [
    "# building vocabulary\n",
    "ENGLISH_TEXT.build_vocab(train)\n",
    "FRENCH_TEXT.build_vocab(train)"
   ]
  },
  {
   "cell_type": "code",
   "execution_count": 11,
   "id": "345f85a7",
   "metadata": {},
   "outputs": [
    {
     "name": "stdout",
     "output_type": "stream",
     "text": [
      "Unique tokens in english vocabulary :  4521\n",
      "Unique tokens in french vocabulary :  6347\n"
     ]
    }
   ],
   "source": [
    "print(\"Unique tokens in english vocabulary : \", len(ENGLISH_TEXT.vocab))\n",
    "print(\"Unique tokens in french vocabulary : \", len(FRENCH_TEXT.vocab))"
   ]
  },
  {
   "cell_type": "code",
   "execution_count": 12,
   "id": "29d3595b",
   "metadata": {},
   "outputs": [],
   "source": [
    "# building iterators\n",
    "BATCH_SIZE = 8\n",
    "DEVICE = \"cpu\"\n",
    "\n",
    "train_iterator, valid_iterator = BucketIterator.splits(\n",
    "    (train, valid),\n",
    "    batch_size = BATCH_SIZE,\n",
    "    sort_within_batch = True,\n",
    "    sort_key = lambda x: len(x.english),\n",
    "    device = DEVICE\n",
    ")"
   ]
  },
  {
   "cell_type": "code",
   "execution_count": 13,
   "id": "8225d75c",
   "metadata": {},
   "outputs": [
    {
     "name": "stdout",
     "output_type": "stream",
     "text": [
      "batch size :  8\n",
      "\n",
      "{'english': ['bring', 'wine', '.'], 'french': ['apporte', 'du', 'vin', '.']}\n",
      "{'english': ['i', 'understood', '.'], 'french': ['j', 'ai', 'compris', '.']}\n",
      "{'english': ['be', 'friendly', '.'], 'french': ['soyez', 'amicaux', '!']}\n",
      "{'english': ['excuse', 'me', '?'], 'french': ['pardon', '?']}\n",
      "{'english': ['ignore', 'them', '.'], 'french': ['ignorez', 'les', '.']}\n",
      "{'english': ['goodnight', 'mother', '.'], 'french': ['bonne', 'nuit', 'mere', '!']}\n",
      "{'english': ['continue', 'digging', '.'], 'french': ['continue', 'de', 'creuser', '.']}\n",
      "{'english': ['take', 'it', '.'], 'french': ['prends', 'le', '!']}\n"
     ]
    }
   ],
   "source": [
    "# how a batch will look like in terms of text\n",
    "valid_iterator.create_batches()\n",
    "\n",
    "for batch in valid_iterator.batches:\n",
    "    print(\"batch size : \", len(batch))\n",
    "    print()\n",
    "    \n",
    "    for example in batch:\n",
    "        print(vars(example))\n",
    "        \n",
    "    break"
   ]
  },
  {
   "cell_type": "code",
   "execution_count": 14,
   "id": "a0947f92",
   "metadata": {},
   "outputs": [],
   "source": [
    "# how the batch actually looks like when goes for processing in numerical format\n",
    "temp = next(iter(valid_iterator))"
   ]
  },
  {
   "cell_type": "code",
   "execution_count": 15,
   "id": "d5b71f82",
   "metadata": {},
   "outputs": [
    {
     "data": {
      "text/plain": [
       "tensor([[   2,    2,    2,    2,    2,    2,    2,    2],\n",
       "        [  96, 1486,    0, 1267, 1064,   34,    5,  494],\n",
       "        [  14,    0,  215,  169,   21,  943, 4403,  550],\n",
       "        [   4,    4,    4,    4,    8,    4,    4,    4],\n",
       "        [   3,    3,    3,    3,    3,    3,    3,    3]])"
      ]
     },
     "execution_count": 15,
     "metadata": {},
     "output_type": "execute_result"
    }
   ],
   "source": [
    "# each column corresponds to a sentence, thats why there are 10 columns\n",
    "# the words/word index are arranged in columnar manner because the RNN takes one word at a time.\n",
    "english_tensor = temp.english\n",
    "english_tensor"
   ]
  },
  {
   "cell_type": "code",
   "execution_count": 16,
   "id": "c7bb6994",
   "metadata": {},
   "outputs": [
    {
     "data": {
      "text/plain": [
       "tensor([[   2,    2,    2,    2,    2,    2,    2,    2],\n",
       "        [ 309,  993,  198,    0, 5251,  224,   19,  872],\n",
       "        [  13,    8,  245,   31,    7,    0,   22,   44],\n",
       "        [  34,    0,  208,    4,    3,   34,  793,  571],\n",
       "        [   3,    4,   34,    3,    1,    3,    4,    4],\n",
       "        [   1,    3,    3,    1,    1,    1,    3,    3]])"
      ]
     },
     "execution_count": 16,
     "metadata": {},
     "output_type": "execute_result"
    }
   ],
   "source": [
    "french_tensor = temp.french\n",
    "french_tensor"
   ]
  },
  {
   "cell_type": "code",
   "execution_count": 17,
   "id": "b05d44f8",
   "metadata": {},
   "outputs": [],
   "source": [
    "# converting the numerical matrices back to sentence format to see how the matrices look like in text format"
   ]
  },
  {
   "cell_type": "code",
   "execution_count": 18,
   "id": "6df4d975",
   "metadata": {},
   "outputs": [
    {
     "data": {
      "text/plain": [
       "dict_keys(['freqs', 'itos', 'unk_index', 'stoi', 'vectors'])"
      ]
     },
     "execution_count": 18,
     "metadata": {},
     "output_type": "execute_result"
    }
   ],
   "source": [
    "vars(ENGLISH_TEXT.vocab).keys()"
   ]
  },
  {
   "cell_type": "code",
   "execution_count": 19,
   "id": "14752d02",
   "metadata": {},
   "outputs": [],
   "source": [
    "def get_batch_string(language_tensor, language_field):\n",
    "    text_language_tensor = []\n",
    "    for tensor in language_tensor.numpy().T:\n",
    "        temp = []\n",
    "        for element in tensor:\n",
    "            temp.append(language_field.vocab.itos[element])\n",
    "        text_language_tensor.append(temp)\n",
    "    return text_language_tensor"
   ]
  },
  {
   "cell_type": "code",
   "execution_count": 20,
   "id": "ce0d321f",
   "metadata": {},
   "outputs": [],
   "source": [
    "text_english_tensor = get_batch_string(english_tensor, ENGLISH_TEXT)\n",
    "text_french_tensor = get_batch_string(french_tensor, FRENCH_TEXT)"
   ]
  },
  {
   "cell_type": "code",
   "execution_count": 21,
   "id": "d9a4d29c",
   "metadata": {},
   "outputs": [
    {
     "name": "stdout",
     "output_type": "stream",
     "text": [
      "<sos> take it . <eos>\n",
      "<sos> continue <unk> . <eos>\n",
      "<sos> <unk> mother . <eos>\n",
      "<sos> ignore them . <eos>\n",
      "<sos> excuse me ? <eos>\n",
      "<sos> be friendly . <eos>\n",
      "<sos> i understood . <eos>\n",
      "<sos> bring wine . <eos>\n"
     ]
    }
   ],
   "source": [
    "for s in text_english_tensor:\n",
    "    print(\" \".join(s))"
   ]
  },
  {
   "cell_type": "code",
   "execution_count": 22,
   "id": "ad4bae2c",
   "metadata": {},
   "outputs": [
    {
     "name": "stdout",
     "output_type": "stream",
     "text": [
      "<sos> prends le ! <eos> <pad>\n",
      "<sos> continue de <unk> . <eos>\n",
      "<sos> bonne nuit mere ! <eos>\n",
      "<sos> <unk> les . <eos> <pad>\n",
      "<sos> pardon ? <eos> <pad> <pad>\n",
      "<sos> soyez <unk> ! <eos> <pad>\n",
      "<sos> j ai compris . <eos>\n",
      "<sos> apporte du vin . <eos>\n"
     ]
    }
   ],
   "source": [
    "for s in text_french_tensor:\n",
    "    print(\" \".join(s))"
   ]
  },
  {
   "cell_type": "code",
   "execution_count": null,
   "id": "61274b20",
   "metadata": {},
   "outputs": [],
   "source": []
  },
  {
   "cell_type": "code",
   "execution_count": null,
   "id": "4c39eac4",
   "metadata": {},
   "outputs": [],
   "source": []
  }
 ],
 "metadata": {
  "kernelspec": {
   "display_name": "Python 3",
   "language": "python",
   "name": "python3"
  },
  "language_info": {
   "codemirror_mode": {
    "name": "ipython",
    "version": 3
   },
   "file_extension": ".py",
   "mimetype": "text/x-python",
   "name": "python",
   "nbconvert_exporter": "python",
   "pygments_lexer": "ipython3",
   "version": "3.7.10"
  }
 },
 "nbformat": 4,
 "nbformat_minor": 5
}
